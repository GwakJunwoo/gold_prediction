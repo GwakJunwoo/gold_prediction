{
 "cells": [
  {
   "cell_type": "code",
   "execution_count": 1,
   "metadata": {},
   "outputs": [],
   "source": [
    "import OpenDartReader\n",
    "\n",
    "apiKey = '916939029f1c9724ef2868f26c9e81faf88abae0'\n",
    "dart = OpenDartReader(apiKey) \n",
    "\n",
    "xml_text = dart.document('20220816001711')"
   ]
  },
  {
   "cell_type": "code",
   "execution_count": 4,
   "metadata": {},
   "outputs": [
    {
     "ename": "ParseError",
     "evalue": "not well-formed (invalid token): line 948, column 71 (<string>)",
     "output_type": "error",
     "traceback": [
      "Traceback \u001b[1;36m(most recent call last)\u001b[0m:\n",
      "\u001b[0m  File \u001b[0;32mc:\\Users\\lunar\\anaconda3\\envs\\pyexcel\\lib\\site-packages\\IPython\\core\\interactiveshell.py:3433\u001b[0m in \u001b[0;35mrun_code\u001b[0m\n    exec(code_obj, self.user_global_ns, self.user_ns)\u001b[0m\n",
      "\u001b[0m  Cell \u001b[0;32mIn[4], line 3\u001b[0m\n    root_element = ElementTree.fromstring(xml_text)\u001b[0m\n",
      "\u001b[1;36m  File \u001b[1;32mc:\\Users\\lunar\\anaconda3\\envs\\pyexcel\\lib\\xml\\etree\\ElementTree.py:1342\u001b[1;36m in \u001b[1;35mXML\u001b[1;36m\n\u001b[1;33m    parser.feed(text)\u001b[1;36m\n",
      "\u001b[1;36m  File \u001b[1;32m<string>\u001b[1;36m\u001b[0m\n\u001b[1;31mParseError\u001b[0m\u001b[1;31m:\u001b[0m not well-formed (invalid token): line 948, column 71\n"
     ]
    }
   ],
   "source": [
    "from xml.etree import ElementTree\n",
    "\n",
    "root_element = ElementTree.fromstring(xml_text)\n",
    "iter_element = root_element.iter(tag=\"tbody\")\n",
    "\n",
    "for e in iter_element:\n",
    "    print(e.find('tr'))"
   ]
  },
  {
   "cell_type": "code",
   "execution_count": 6,
   "metadata": {},
   "outputs": [
    {
     "ename": "ExpatError",
     "evalue": "not well-formed (invalid token): line 948, column 71",
     "output_type": "error",
     "traceback": [
      "\u001b[1;31m---------------------------------------------------------------------------\u001b[0m",
      "\u001b[1;31mExpatError\u001b[0m                                Traceback (most recent call last)",
      "Cell \u001b[1;32mIn[6], line 3\u001b[0m\n\u001b[0;32m      1\u001b[0m \u001b[39mimport\u001b[39;00m \u001b[39mxmltodict\u001b[39;00m\n\u001b[1;32m----> 3\u001b[0m a \u001b[39m=\u001b[39m xmltodict\u001b[39m.\u001b[39;49mparse(xml_text)\n\u001b[0;32m      4\u001b[0m a\n",
      "File \u001b[1;32mc:\\Users\\lunar\\anaconda3\\envs\\pyexcel\\lib\\site-packages\\xmltodict.py:378\u001b[0m, in \u001b[0;36mparse\u001b[1;34m(xml_input, encoding, expat, process_namespaces, namespace_separator, disable_entities, process_comments, **kwargs)\u001b[0m\n\u001b[0;32m    376\u001b[0m     parser\u001b[39m.\u001b[39mParse(\u001b[39mb\u001b[39m\u001b[39m'\u001b[39m\u001b[39m'\u001b[39m,\u001b[39mTrue\u001b[39;00m)\n\u001b[0;32m    377\u001b[0m \u001b[39melse\u001b[39;00m:\n\u001b[1;32m--> 378\u001b[0m     parser\u001b[39m.\u001b[39;49mParse(xml_input, \u001b[39mTrue\u001b[39;49;00m)\n\u001b[0;32m    379\u001b[0m \u001b[39mreturn\u001b[39;00m handler\u001b[39m.\u001b[39mitem\n",
      "\u001b[1;31mExpatError\u001b[0m: not well-formed (invalid token): line 948, column 71"
     ]
    }
   ],
   "source": [
    "import xmltodict\n",
    "\n",
    "a = xmltodict.parse(xml_text)\n",
    "a"
   ]
  },
  {
   "cell_type": "code",
   "execution_count": 14,
   "metadata": {},
   "outputs": [
    {
     "data": {
      "text/plain": [
       "<?xml version=\"1.0\" encoding=\"utf-8\"?>    <FORMULA-VERSION ADATE=\"20220418\">4.8</FORMULA...\n",
       "Name: 2, dtype: object"
      ]
     },
     "execution_count": 14,
     "metadata": {},
     "output_type": "execute_result"
    }
   ],
   "source": [
    "import pandas as pd\n",
    "\n",
    "v = pd.read_table('./docs_cache/dart-20220816001711.xhml', encoding='EUC-KR')\n",
    "v.iloc[2]"
   ]
  },
  {
   "cell_type": "code",
   "execution_count": 15,
   "metadata": {},
   "outputs": [],
   "source": [
    "XML_PREDEFINED_ENTITIES = {\n",
    "\t\"<\": \"&#60;\",\n",
    "\t\"&\": \"&#38;\",\n",
    "\t\">\": \"&#62;\",\n",
    "\t\"'\": \"&#39;\",\n",
    "\t'\"': \"&#34;\",\n",
    "}\n",
    "\n",
    "for char, escape_char in XML_PREDEFINED_ENTITIES.items():\n",
    "\txml_text = xml_text.replace(char, escape_char)"
   ]
  },
  {
   "cell_type": "code",
   "execution_count": null,
   "metadata": {},
   "outputs": [],
   "source": []
  }
 ],
 "metadata": {
  "kernelspec": {
   "display_name": "pyexcel",
   "language": "python",
   "name": "python3"
  },
  "language_info": {
   "codemirror_mode": {
    "name": "ipython",
    "version": 3
   },
   "file_extension": ".py",
   "mimetype": "text/x-python",
   "name": "python",
   "nbconvert_exporter": "python",
   "pygments_lexer": "ipython3",
   "version": "3.10.8 | packaged by conda-forge | (main, Nov 24 2022, 14:07:00) [MSC v.1916 64 bit (AMD64)]"
  },
  "orig_nbformat": 4,
  "vscode": {
   "interpreter": {
    "hash": "ba18e3711a8457087ac6591f45d1ec2b7576e54bb08f741dfb26949b9b783d22"
   }
  }
 },
 "nbformat": 4,
 "nbformat_minor": 2
}
